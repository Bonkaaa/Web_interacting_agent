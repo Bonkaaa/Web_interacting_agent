{
 "cells": [
  {
   "cell_type": "code",
   "execution_count": 5,
   "id": "efda4e98",
   "metadata": {},
   "outputs": [],
   "source": [
    "from graph import create_graph\n",
    "\n",
    "graph = create_graph()"
   ]
  },
  {
   "cell_type": "code",
   "execution_count": 6,
   "id": "b8c1327d",
   "metadata": {},
   "outputs": [
    {
     "data": {
      "image/png": "[encoded data removed]",
      "text/plain": [
       "<IPython.core.display.Image object>"
      ]
     },
     "metadata": {},
     "output_type": "display_data"
    }
   ],
   "source": [
    "from IPython.display import display, Image\n",
    "\n",
    "display(Image(graph.get_graph(xray=True).draw_mermaid_png()))"
   ]
  },
  {
   "cell_type": "code",
   "execution_count": 3,
   "id": "f863d95b",
   "metadata": {},
   "outputs": [],
   "source": [
    "from typing import TypedDict, Annotated\n",
    "from langchain_core.messages import AnyMessage\n",
    "from langgraph.graph import add_messages\n",
    "\n",
    "class State(TypedDict):\n",
    "    messages: Annotated[list[AnyMessage], add_messages]\n",
    "    request: str\n",
    "    response: str\n",
    "    response_summary: str\n",
    "    url: str\n",
    "    tool_call_count: int"
   ]
  },
  {
   "cell_type": "code",
   "execution_count": null,
   "id": "2e61e16c",
   "metadata": {},
   "outputs": [],
   "source": [
    "initial_state: State = {\n",
    "        \"messages\": [],\n",
    "        \"request\": \"Search for the term 'LangGraph' on the page and provide a summary of the content found.\",\n",
    "        \"response\": \"\",\n",
    "        \"response_summary\": \"\",\n",
    "        \"url\": \"http://bing.com\",\n",
    "        \"tool_call_count\": 0\n",
    "    }\n",
    "\n",
    "final_state = agent.invoke(initial_state)"
   ]
  },
  {
   "cell_type": "code",
   "execution_count": 5,
   "id": "d7b9e65b",
   "metadata": {},
   "outputs": [
    {
     "data": {
      "text/plain": [
       "{'messages': [SystemMessage(content='\\nYou are a web-interacting agent. Your goal is to complete the given request with the help of tools that allow you to interact with websites.\\nYou will be provided with a URL and a request. Use the selenium tools to navigate to the website and find the information needed to complete the request.\\nMake sure to follow the instructions carefully and use the tools as needed.\\n\\nThe tools you can use are:\\n- create_driver: Creates a new web driver instance.\\n- access_url: Accesses a given URL using the driver.\\n- find_element: Finds an element on the page using various locator methods (name, id, xpath, css, class, tag, link_text, partial_link_text).\\n- click_element: Clicks on a web element.\\n- search_element: Inputs a search query into an element and presses Enter.\\n- get_html_from_driver: Gets the HTML content from the current page.\\n- simplify_html: Simplifies the HTML content to extract meaningful text.\\n- close_driver: Closes the web driver instance.\\n\\nImportant: You must first create a driver, then access a URL, and then use other tools to interact with the page.\\n', additional_kwargs={}, response_metadata={}, id='50dc74c1-085f-4e65-929f-6a1e4854ade4'),\n",
       "  HumanMessage(content=\"\\n### TASK:\\nGiven the URL and the request, use the tools to navigate to the website and find the information needed to complete the request.\\n\\nFollow these steps:\\n1. Create a driver using create_driver\\n2. Access the URL using access_url\\n3. Interact with the page as needed using find_element, click_element, and search_element tools\\n4. Get the HTML content using get_html_from_driver\\n5. Simplify the HTML content using simplify_html\\n\\nYour final response must be ONLY the output of the simplify_html tool - the extracted meaningful text content.\\nDo not include any other text, explanations, or formatting in your response.\\n\\n### URL:\\nhttp://bing.com\\n\\n### REQUEST:\\nSearch for the term 'LangGraph' on the page and provide a summary of the content found.\\n\", additional_kwargs={}, response_metadata={}, id='e74c0bfb-4bdb-4148-bb47-7430ed3af791'),\n",
       "  AIMessage(content='', additional_kwargs={}, response_metadata={}, id='fe0e5dee-fdce-4255-9cf0-f75578f1844d')],\n",
       " 'request': \"Search for the term 'LangGraph' on the page and provide a summary of the content found.\",\n",
       " 'response': '',\n",
       " 'response_summary': '',\n",
       " 'url': 'http://bing.com'}"
      ]
     },
     "execution_count": 5,
     "metadata": {},
     "output_type": "execute_result"
    }
   ],
   "source": [
    "final_state"
   ]
  },
  {
   "cell_type": "code",
   "execution_count": null,
   "id": "ea7ea10a",
   "metadata": {},
   "outputs": [],
   "source": []
  }
 ],
 "metadata": {
  "kernelspec": {
   "display_name": ".venv",
   "language": "python",
   "name": "python3"
  },
  "language_info": {
   "codemirror_mode": {
    "name": "ipython",
    "version": 3
   },
   "file_extension": ".py",
   "mimetype": "text/x-python",
   "name": "python",
   "nbconvert_exporter": "python",
   "pygments_lexer": "ipython3",
   "version": "3.12.6"
  }
 },
 "nbformat": 4,
 "nbformat_minor": 5
}
