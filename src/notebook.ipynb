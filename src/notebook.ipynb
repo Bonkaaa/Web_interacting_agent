{
 "cells": [
  {
   "cell_type": "code",
   "execution_count": null,
   "id": "2fa67b5c",
   "metadata": {},
   "outputs": [],
   "source": [
    "from langgraph.graph import StateGraph, START, END, add_messages\n",
    "from langchain_core.messages import HumanMessage, AIMessage, AnyMessage, SystemMessage\n",
    "from langgraph.prebuilt import ToolNode\n",
    "\n",
    "from utils import setup_logger\n",
    "from components.llm import get_llm\n",
    "from components.tools import create_driver, access_url\n",
    "\n",
    "from template import planner_prompt, system_prompt, create_driver_prompt\n",
    "from utils import dump_json_to_file\n",
    "\n",
    "from typing_extensions import TypedDict, Annotated\n",
    "from pydantic import BaseModel, Field\n",
    "import json\n",
    "import operator\n",
    "\n",
    "\n",
    "logger = setup_logger(\"agent\")\n",
    "\n",
    "class State(TypedDict):\n",
    "    messages: Annotated[list[AnyMessage], add_messages]\n",
    "    driver: object\n",
    "    url: str\n",
    "    request: str\n",
    "    response: str"
   ]
  },
  {
   "cell_type": "code",
   "execution_count": 18,
   "id": "92147c76",
   "metadata": {},
   "outputs": [],
   "source": [
    "state: State = {\n",
    "        \"messages\": [],\n",
    "        \"driver\": None,\n",
    "        \"url\": \"http://bing.com\",\n",
    "        \"request\": \"Search for the term 'LangGraph' on the page and provide a summary of the content found.\",\n",
    "        \"response\": \"\",\n",
    "\n",
    "}"
   ]
  },
  {
   "cell_type": "code",
   "execution_count": null,
   "id": "749f9079",
   "metadata": {},
   "outputs": [],
   "source": [
    "llm = get_llm()\n",
    "\n",
    "user_prompt = f\"\"\"Your first task is to create a web driver instance using the create_driver tool. \\\n",
    "Make sure to use the tool correctly to initialize the driver before performing any other actions.\"\"\"\n",
    "\n",
    "messages = [\n",
    "    HumanMessage(content=user_prompt)\n",
    "]\n",
    "\n",
    "llm_with_tools = llm.bind_tools([create_driver])\n",
    "\n",
    "chain = create_driver_prompt | llm_with_tools\n",
    "\n",
    "try:\n",
    "    response = chain.invoke(\n",
    "        {\n",
    "            \"request\": messages[0].content\n",
    "        }\n",
    "    )\n",
    "    logger.info(\"Web driver created successfully.\")\n",
    "except Exception as e:\n",
    "    logger.error(f\"Error creating web driver: {e}\")\n",
    "    state[\"driver\"] = None"
   ]
  },
  {
   "cell_type": "code",
   "execution_count": 20,
   "id": "9d2e0f99",
   "metadata": {},
   "outputs": [],
   "source": [
    "dump_json_to_file(dict(response), \"response.json\")"
   ]
  },
  {
   "cell_type": "code",
   "execution_count": 25,
   "id": "1240f8a0",
   "metadata": {},
   "outputs": [
    {
     "data": {
      "text/plain": [
       "[{'name': 'create_driver',\n",
       "  'args': {},\n",
       "  'id': 'f5dc9b40-a3d1-41ec-af1a-9ba771a97bd0',\n",
       "  'type': 'tool_call'}]"
      ]
     },
     "execution_count": 25,
     "metadata": {},
     "output_type": "execute_result"
    }
   ],
   "source": [
    "response.tool_calls"
   ]
  },
  {
   "cell_type": "code",
   "execution_count": null,
   "id": "6989939e",
   "metadata": {},
   "outputs": [
    {
     "name": "stdout",
     "output_type": "stream",
     "text": [
      "{'messages': [ToolMessage(content='<selenium.webdriver.chrome.webdriver.WebDriver (session=\"f93896393b81ecb6c532c95652bf675a\")>', name='create_driver', tool_call_id='f5dc9b40-a3d1-41ec-af1a-9ba771a97bd0')]}\n"
     ]
    }
   ],
   "source": [
    "# from langgraph.prebuilt import ToolNode\n",
    "\n",
    "\n",
    "\n",
    "# tool_node = ToolNode([create_driver])\n",
    "\n",
    "# state_with_tool = {\n",
    "#     \"messages\": messages + [response],\n",
    "# }\n",
    "\n",
    "# tool_result = tool_node.invoke(state_with_tool)\n",
    "# print(tool_result)"
   ]
  },
  {
   "cell_type": "code",
   "execution_count": 2,
   "id": "42bed120",
   "metadata": {},
   "outputs": [],
   "source": [
    "llm = get_llm()"
   ]
  },
  {
   "cell_type": "code",
   "execution_count": 3,
   "id": "4132554f",
   "metadata": {},
   "outputs": [
    {
     "name": "stdout",
     "output_type": "stream",
     "text": [
      "{\"message\": \"WebDriver instance created.\"}\n",
      "null\n"
     ]
    }
   ],
   "source": [
    "tools = [create_driver, access_url]\n",
    "tool_node = ToolNode(tools)\n",
    "llm_with_tools = llm.bind_tools(tools)\n",
    "\n",
    "response1 = llm_with_tools.invoke([HumanMessage(\"Create a web driver\")])\n",
    "result1 = tool_node.invoke({\"messages\": [response1]})\n",
    "print(result1[\"messages\"][0].content)\n",
    "\n",
    "response2 = llm_with_tools.invoke([HumanMessage(\"Access the URL http://bing.com\")])\n",
    "result2 = tool_node.invoke({\"messages\": [response2]})\n",
    "print(result2[\"messages\"][0].content)\n"
   ]
  },
  {
   "cell_type": "code",
   "execution_count": null,
   "id": "05685432",
   "metadata": {},
   "outputs": [],
   "source": []
  }
 ],
 "metadata": {
  "kernelspec": {
   "display_name": ".venv",
   "language": "python",
   "name": "python3"
  },
  "language_info": {
   "codemirror_mode": {
    "name": "ipython",
    "version": 3
   },
   "file_extension": ".py",
   "mimetype": "text/x-python",
   "name": "python",
   "nbconvert_exporter": "python",
   "pygments_lexer": "ipython3",
   "version": "3.12.6"
  }
 },
 "nbformat": 4,
 "nbformat_minor": 5
}
